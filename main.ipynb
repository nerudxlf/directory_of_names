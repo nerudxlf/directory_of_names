{
  "nbformat": 4,
  "nbformat_minor": 0,
  "metadata": {
    "colab": {
      "name": "main.ipynb",
      "provenance": [],
      "authorship_tag": "ABX9TyNnx+3gSJXyVWSJteAdgIj/",
      "include_colab_link": true
    },
    "kernelspec": {
      "name": "python3",
      "display_name": "Python 3"
    },
    "language_info": {
      "name": "python"
    }
  },
  "cells": [
    {
      "cell_type": "markdown",
      "metadata": {
        "id": "view-in-github",
        "colab_type": "text"
      },
      "source": [
        "<a href=\"https://colab.research.google.com/github/nerudxlf/directory_of_names/blob/main/main.ipynb\" target=\"_parent\"><img src=\"https://colab.research.google.com/assets/colab-badge.svg\" alt=\"Open In Colab\"/></a>"
      ]
    },
    {
      "cell_type": "code",
      "metadata": {
        "id": "5aqeBB2aNjiy"
      },
      "source": [
        "import pandas as pd\n",
        "from google.colab import files\n",
        "\n",
        "files.upload()"
      ],
      "execution_count": null,
      "outputs": []
    },
    {
      "cell_type": "code",
      "metadata": {
        "id": "g0EnLf0MNsnD"
      },
      "source": [
        "def join_names(tuple_name: tuple) -> str:\n",
        "  result_string: str = \"\"\n",
        "  for name in tuple_name:\n",
        "    result_string += str(name) + \";\"\n",
        "  return result_string\n",
        "\n",
        "\n",
        "def just_join_names(tuple_names: tuple) -> str:\n",
        "  result_str: str = \"\"\n",
        "  for name in tuple_names:\n",
        "    result_str += str(name)\n",
        "  return result_str\n",
        "\n",
        "\n",
        "def filter_names(data_list: list) -> list:\n",
        "  return_list: list = []\n",
        "  for item in data_list:\n",
        "    item = item.replace(\"nan;\", \"\")\n",
        "    item = item.replace(\"0;\", \"\")\n",
        "    return_list.append(item.lower())\n",
        "  return return_list\n",
        "\n",
        "\n",
        "def get_from_ready_excel():\n",
        "  \"\"\"Формирует DF full data из 2х таблиц с именами\"\"\"\n",
        "  directory_v1_df = pd.read_excel(\"directory_v1.xlsx\")\n",
        "  omstu_plus_df = pd.read_excel(\"OMSTU+.xlsx\")\n",
        "  omstu_plus_df_filter = omstu_plus_df.filter([\"WoS\", \"Scopus\", \"full name\"])\n",
        "  directory_v1_df[\"names\"] = directory_v1_df[[\"name in wos\", \"name in scopus\"]].apply(tuple, axis=1)\n",
        "  directory_v1_df[\"names\"] = directory_v1_df[\"names\"].apply(join_names)\n",
        "  directory_v1_df.drop([\"name in wos\", \"name in scopus\"], inplace=True, axis=1)\n",
        "\n",
        "  omstu_plus_df_filter[\"names_omstu+\"] = omstu_plus_df_filter[[\"WoS\", \"Scopus\"]].apply(tuple, axis=1)\n",
        "  omstu_plus_df_filter[\"names_omstu+\"] = omstu_plus_df_filter[\"names_omstu+\"].apply(join_names)\n",
        "  omstu_plus_df_filter.drop([\"WoS\", \"Scopus\"], inplace=True, axis=1)\n",
        "\n",
        "  merge_data = pd.merge(left=directory_v1_df, right=omstu_plus_df_filter, left_on=\"Сотрудник\", right_on=\"full name\")\n",
        "  merge_data.drop([\"full name\"], inplace=True, axis=1)\n",
        "  merge_data.drop_duplicates(inplace=True)\n",
        "\n",
        "  merge_data[\"names\"] = merge_data[[\"names\", \"names_omstu+\"]].apply(tuple, axis=1)\n",
        "  merge_data[\"names\"] = merge_data[\"names\"].apply(just_join_names)\n",
        "  merge_data.drop([\"names_omstu+\"], inplace=True, axis=1)\n",
        "\n",
        "  names_list = merge_data[\"names\"].to_list()\n",
        "  names_list = filter_names(names_list)\n",
        "  merge_data[\"names\"] = names_list\n",
        "  return merge_data\n",
        "\n",
        "\n",
        "def get_osmtu_authors_wos(data_list: list) -> list:\n",
        "  result_list: list = []\n",
        "  for elem in data_list:\n",
        "    for item in elem.split(\"; [\"):\n",
        "      if item.find(\"Omsk State Tech Univ\") != -1:\n",
        "        list_authors = item.split(\"]\")[0]\n",
        "        for author in list_authors.split(\"; \"):\n",
        "          if author[0] == \"[\":\n",
        "            author = author[1:]\n",
        "          if author[-1] != \";\":\n",
        "            author += \";\"\n",
        "            result_list.append(author.lower())\n",
        "  return list(set(result_list))\n",
        "\n",
        "\n",
        "def get_omstu_authors_scopus(data_list: list) -> list:\n",
        "  result_list: list = []\n",
        "  for elem in data_list:\n",
        "    for item in elem.split(\"; \"):\n",
        "      if item.find(\"Omsk State Technical University\") != -1:\n",
        "        item_split = item.split(\", \")\n",
        "        author = item_split[0] + \" \" + item_split[1]\n",
        "        author += \";\"\n",
        "        result_list.append(author.lower())\n",
        "  return list(set(result_list))\n",
        "\n",
        "\n",
        "def get_full_list(data_list: list) -> str:\n",
        "  result_string: str = \"\"\n",
        "  for i in data_list:\n",
        "    if not isinstance(i, float):\n",
        "      i = i.replace(\"  \", \" \")\n",
        "      result_string += i\n",
        "  return result_string"
      ],
      "execution_count": 12,
      "outputs": []
    },
    {
      "cell_type": "code",
      "metadata": {
        "id": "-F75rLQCPuHv"
      },
      "source": [
        "wos_not_in_all_data: list = []\n",
        "scopus_not_in_all_data: list = []\n",
        "# ЕСЛИ ЕСТЬ ГОТОВЫЙ ФАЙЛ С ИМЕНАМИ ТО ФУНКЦИЮ get_from_ready_excel() вызывать не надо\n",
        "# all_data: object = get_from_ready_excel()\n",
        "all_data = pd.read_excel(\"result.xlsx\")\n",
        "scopus_df = pd.read_excel(\"scopus2020.xlsx\")\n",
        "wos_df = pd.read_excel(\"wos2020.xls\")\n",
        "wos_address_list = wos_df[\"Addresses\"].to_list()\n",
        "scopus_addres_list = scopus_df[\"Authors with affiliations\"]\n",
        "wos_authors_list = get_osmtu_authors_wos(wos_address_list)\n",
        "scopus_authors_list = get_omstu_authors_scopus(scopus_addres_list)\n",
        "\n",
        "all_data_names = all_data[\"names\"].to_list()\n",
        "all_data_names = get_full_list(all_data_names)\n",
        "\n",
        "for i in wos_authors_list:\n",
        "  if all_data_names.find(i[0:-1]) == -1:\n",
        "    wos_not_in_all_data.append(i)\n",
        "for i in scopus_authors_list:\n",
        "  if all_data_names.find(i[0:-1]) == -1:\n",
        "    scopus_not_in_all_data.append(i)\n",
        "\n",
        "wos_df = pd.DataFrame({\"WoS\": wos_not_in_all_data})\n",
        "scopus_df = pd.DataFrame({\"Scopus\": scopus_not_in_all_data})\n",
        "wos_df.to_excel(\"wos_error.xlsx\", index=False)\n",
        "scopus_df.to_excel(\"scopus_error.xlsx\", index=False)"
      ],
      "execution_count": 14,
      "outputs": []
    }
  ]
}